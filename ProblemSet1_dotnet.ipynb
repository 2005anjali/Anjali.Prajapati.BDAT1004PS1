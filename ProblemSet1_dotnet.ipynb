{
 "cells": [
  {
   "cell_type": "code",
   "execution_count": null,
   "id": "d2ab51b5",
   "metadata": {},
   "outputs": [],
   "source": [
    "// Question 1"
   ]
  },
  {
   "cell_type": "code",
   "execution_count": null,
   "id": "7307ed03",
   "metadata": {},
   "outputs": [],
   "source": [
    "5 - Integer\n",
    "5.0 - Float\n",
    "5 > 1 - Boolean (True)\n",
    "'5' - String\n",
    "5 * 2 - Integer\n",
    "'5' * 2 - String\n",
    "'5' + '2' - String\n",
    "5 / 2 - Float\n",
    "5 // 2 - Integer (floor division)\n",
    "5 % 2 - Integer\n",
    "{5, 2, 1} - Array\n",
    "5 == 3 - Boolean (False)\n",
    "Pi - Double"
   ]
  },
  {
   "cell_type": "code",
   "execution_count": null,
   "id": "4cd2f0f7",
   "metadata": {},
   "outputs": [],
   "source": [
    "// Question 2_A"
   ]
  },
  {
   "cell_type": "code",
   "execution_count": 1,
   "id": "b2defe44",
   "metadata": {},
   "outputs": [
    {
     "data": {
      "text/html": [
       "\r\n",
       "<div>\r\n",
       "    <div id='dotnet-interactive-this-cell-21724.Microsoft.DotNet.Interactive.Http.HttpPort' style='display: none'>\r\n",
       "        The below script needs to be able to find the current output cell; this is an easy method to get it.\r\n",
       "    </div>\r\n",
       "    <script type='text/javascript'>\r\n",
       "async function probeAddresses(probingAddresses) {\r\n",
       "    function timeout(ms, promise) {\r\n",
       "        return new Promise(function (resolve, reject) {\r\n",
       "            setTimeout(function () {\r\n",
       "                reject(new Error('timeout'))\r\n",
       "            }, ms)\r\n",
       "            promise.then(resolve, reject)\r\n",
       "        })\r\n",
       "    }\r\n",
       "\r\n",
       "    if (Array.isArray(probingAddresses)) {\r\n",
       "        for (let i = 0; i < probingAddresses.length; i++) {\r\n",
       "\r\n",
       "            let rootUrl = probingAddresses[i];\r\n",
       "\r\n",
       "            if (!rootUrl.endsWith('/')) {\r\n",
       "                rootUrl = `${rootUrl}/`;\r\n",
       "            }\r\n",
       "\r\n",
       "            try {\r\n",
       "                let response = await timeout(1000, fetch(`${rootUrl}discovery`, {\r\n",
       "                    method: 'POST',\r\n",
       "                    cache: 'no-cache',\r\n",
       "                    mode: 'cors',\r\n",
       "                    timeout: 1000,\r\n",
       "                    headers: {\r\n",
       "                        'Content-Type': 'text/plain'\r\n",
       "                    },\r\n",
       "                    body: probingAddresses[i]\r\n",
       "                }));\r\n",
       "\r\n",
       "                if (response.status == 200) {\r\n",
       "                    return rootUrl;\r\n",
       "                }\r\n",
       "            }\r\n",
       "            catch (e) { }\r\n",
       "        }\r\n",
       "    }\r\n",
       "}\r\n",
       "\r\n",
       "function loadDotnetInteractiveApi() {\r\n",
       "    probeAddresses([\"http://192.168.1.149:2051/\", \"http://127.0.0.1:2051/\"])\r\n",
       "        .then((root) => {\r\n",
       "        // use probing to find host url and api resources\r\n",
       "        // load interactive helpers and language services\r\n",
       "        let dotnetInteractiveRequire = require.config({\r\n",
       "        context: '21724.Microsoft.DotNet.Interactive.Http.HttpPort',\r\n",
       "                paths:\r\n",
       "            {\r\n",
       "                'dotnet-interactive': `${root}resources`\r\n",
       "                }\r\n",
       "        }) || require;\r\n",
       "\r\n",
       "            window.dotnetInteractiveRequire = dotnetInteractiveRequire;\r\n",
       "\r\n",
       "            window.configureRequireFromExtension = function(extensionName, extensionCacheBuster) {\r\n",
       "                let paths = {};\r\n",
       "                paths[extensionName] = `${root}extensions/${extensionName}/resources/`;\r\n",
       "                \r\n",
       "                let internalRequire = require.config({\r\n",
       "                    context: extensionCacheBuster,\r\n",
       "                    paths: paths,\r\n",
       "                    urlArgs: `cacheBuster=${extensionCacheBuster}`\r\n",
       "                    }) || require;\r\n",
       "\r\n",
       "                return internalRequire\r\n",
       "            };\r\n",
       "        \r\n",
       "            dotnetInteractiveRequire([\r\n",
       "                    'dotnet-interactive/dotnet-interactive'\r\n",
       "                ],\r\n",
       "                function (dotnet) {\r\n",
       "                    dotnet.init(window);\r\n",
       "                },\r\n",
       "                function (error) {\r\n",
       "                    console.log(error);\r\n",
       "                }\r\n",
       "            );\r\n",
       "        })\r\n",
       "        .catch(error => {console.log(error);});\r\n",
       "    }\r\n",
       "\r\n",
       "// ensure `require` is available globally\r\n",
       "if ((typeof(require) !==  typeof(Function)) || (typeof(require.config) !== typeof(Function))) {\r\n",
       "    let require_script = document.createElement('script');\r\n",
       "    require_script.setAttribute('src', 'https://cdnjs.cloudflare.com/ajax/libs/require.js/2.3.6/require.min.js');\r\n",
       "    require_script.setAttribute('type', 'text/javascript');\r\n",
       "    \r\n",
       "    \r\n",
       "    require_script.onload = function() {\r\n",
       "        loadDotnetInteractiveApi();\r\n",
       "    };\r\n",
       "\r\n",
       "    document.getElementsByTagName('head')[0].appendChild(require_script);\r\n",
       "}\r\n",
       "else {\r\n",
       "    loadDotnetInteractiveApi();\r\n",
       "}\r\n",
       "\r\n",
       "    </script>\r\n",
       "</div>"
      ]
     },
     "metadata": {},
     "output_type": "display_data"
    },
    {
     "name": "stdout",
     "output_type": "stream",
     "text": [
      "a. Number of letters in 'Supercalifragilisticexpialidocious': 34\r\n"
     ]
    }
   ],
   "source": [
    "string wordA = \"Supercalifragilisticexpialidocious\";\n",
    "int letterCountA = wordA.Length;\n",
    "Console.WriteLine($\"a. Number of letters in '{wordA}': {letterCountA}\");"
   ]
  },
  {
   "cell_type": "code",
   "execution_count": null,
   "id": "9c871ba5",
   "metadata": {},
   "outputs": [],
   "source": [
    "// Question 2_B"
   ]
  },
  {
   "cell_type": "code",
   "execution_count": 2,
   "id": "029baf18",
   "metadata": {},
   "outputs": [
    {
     "name": "stdout",
     "output_type": "stream",
     "text": [
      "b. Does 'Supercalifragilisticexpialidocious' contain 'ice' as a substring? True\r\n"
     ]
    }
   ],
   "source": [
    "string wordB = \"Supercalifragilisticexpialidocious\";\n",
    "bool containsIce = wordB.Contains(\"ice\");\n",
    "Console.WriteLine($\"b. Does '{wordB}' contain 'ice' as a substring? {containsIce}\");"
   ]
  },
  {
   "cell_type": "code",
   "execution_count": null,
   "id": "9eeffb92",
   "metadata": {},
   "outputs": [],
   "source": [
    "// Question 2_C"
   ]
  },
  {
   "cell_type": "code",
   "execution_count": 3,
   "id": "cd1ae386",
   "metadata": {},
   "outputs": [
    {
     "name": "stdout",
     "output_type": "stream",
     "text": [
      "c. The longest word is: Bababadalgharaghtakamminarronnkonn\r\n"
     ]
    }
   ],
   "source": [
    "string wordC1 = \"Supercalifragilisticexpialidocious\";\n",
    "string wordC2 = \"Honorificabilitudinitatibus\";\n",
    "string wordC3 = \"Bababadalgharaghtakamminarronnkonn\";\n",
    "\n",
    "string longestWord = wordC1.Length > wordC2.Length\n",
    "    ? (wordC1.Length > wordC3.Length ? wordC1 : wordC3)\n",
    "    : (wordC2.Length > wordC3.Length ? wordC2 : wordC3);\n",
    "\n",
    "Console.WriteLine($\"c. The longest word is: {longestWord}\");"
   ]
  },
  {
   "cell_type": "code",
   "execution_count": null,
   "id": "1e4f9318",
   "metadata": {},
   "outputs": [],
   "source": [
    "// Question 2_D"
   ]
  },
  {
   "cell_type": "code",
   "execution_count": 4,
   "id": "82c69c01",
   "metadata": {},
   "outputs": [
    {
     "name": "stdout",
     "output_type": "stream",
     "text": [
      "d. First composer in the dictionary: Bartok\n",
      "   Last composer in the dictionary: Buxtehude\n"
     ]
    }
   ],
   "source": [
    "string[] composers = { \"Berlioz\", \"Borodin\", \"Brian\", \"Bartok\", \"Bellini\", \"Buxtehude\", \"Bernstein\" };\n",
    "\n",
    "Array.Sort(composers);\n",
    "\n",
    "string firstComposer = composers[0];\n",
    "string lastComposer = composers[composers.Length - 1];\n",
    "\n",
    "Console.WriteLine($\"d. First composer in the dictionary: {firstComposer}\");\n",
    "Console.WriteLine($\"   Last composer in the dictionary: {lastComposer}\");"
   ]
  },
  {
   "cell_type": "code",
   "execution_count": null,
   "id": "7c688395",
   "metadata": {},
   "outputs": [],
   "source": [
    "// Question 3"
   ]
  },
  {
   "cell_type": "code",
   "execution_count": 5,
   "id": "8eb73551",
   "metadata": {},
   "outputs": [
    {
     "name": "stdout",
     "output_type": "stream",
     "text": [
      "1.7320508075688772\r\n"
     ]
    }
   ],
   "source": [
    "using System;\n",
    "\n",
    "\n",
    "    \n",
    "        double area = Triangle(2, 2, 2);\n",
    "        Console.WriteLine(area);\n",
    "    \n",
    "\n",
    "    static double Triangle(double a, double b, double c)\n",
    "    {\n",
    "        double s = (a + b + c) / 2;\n",
    "\n",
    "        double area = Math.Sqrt(s * (s - a) * (s - b) * (s - c));\n",
    "\n",
    "        return area;\n",
    "    }\n"
   ]
  },
  {
   "cell_type": "code",
   "execution_count": null,
   "id": "0b19de4c",
   "metadata": {},
   "outputs": [],
   "source": [
    "// Question 4"
   ]
  },
  {
   "cell_type": "code",
   "execution_count": null,
   "id": "114e1b6e",
   "metadata": {},
   "outputs": [],
   "source": [
    "#r \"nuget:Microsoft.Data.Analysis\"\n",
    "\n",
    "using System;\n",
    "\n",
    "Console.WriteLine(\"Input the number of elements to be stored in the array: \");\n",
    "int n  = Console.Read();\n",
    "\n",
    "int[] numbers = new int[n];\n",
    "\n",
    "for (int i = 0; i < n; i++)\n",
    "{\n",
    "    Console.Write($\"element - {i} : \");\n",
    "    numbers[i] = int.Parse(Console.ReadLine());\n",
    "}\n",
    "\n",
    "int[] evenArray = new int[n];\n",
    "int evenCount = 0;\n",
    "\n",
    "int[] oddArray = new int[n];\n",
    "int oddCount = 0;\n",
    "\n",
    "for (int i = 0; i < n; i++)\n",
    "{\n",
    "    if (numbers[i] % 2 == 0)\n",
    "    {\n",
    "        evenArray[evenCount] = numbers[i];\n",
    "        evenCount++;\n",
    "    }\n",
    "    else\n",
    "    {\n",
    "        oddArray[oddCount] = numbers[i];\n",
    "        oddCount++;\n",
    "    }\n",
    "}\n",
    "\n",
    "Console.Write(\"The Even elements are: \");\n",
    "for (int i = 0; i < evenCount; i++)\n",
    "{\n",
    "    Console.Write(evenArray[i] + \" \");\n",
    "}\n",
    "\n",
    "Console.WriteLine(\"\\nThe Odd elements are: \");\n",
    "for (int i = 0; i < oddCount; i++)\n",
    "{\n",
    "    Console.Write(oddArray[i] + \" \");\n",
    "}"
   ]
  },
  {
   "cell_type": "code",
   "execution_count": null,
   "id": "a41d426b",
   "metadata": {},
   "outputs": [],
   "source": [
    "// Question 5_A"
   ]
  },
  {
   "cell_type": "code",
   "execution_count": 6,
   "id": "af67958c",
   "metadata": {},
   "outputs": [
    {
     "name": "stdout",
     "output_type": "stream",
     "text": [
      "True\n",
      "False\n"
     ]
    }
   ],
   "source": [
    "using System;\n",
    "\n",
    "\n",
    "        bool result1 = Inside(1, 1, 0, 0, 2, 3);\n",
    "        Console.WriteLine(result1);\n",
    "\n",
    "        bool result2 = Inside(-1, -1, 0, 0, 2, 3);\n",
    "        Console.WriteLine(result2);\n",
    "    \n",
    "\n",
    "    static bool Inside(double x, double y, double x1, double y1, double x2, double y2)\n",
    "    {\n",
    "        return (x >= x1 && x <= x2) && (y >= y1 && y <= y2);\n",
    "    }\n"
   ]
  },
  {
   "cell_type": "code",
   "execution_count": null,
   "id": "90fa7709",
   "metadata": {},
   "outputs": [],
   "source": [
    "// Question 5_B"
   ]
  },
  {
   "cell_type": "code",
   "execution_count": 7,
   "id": "c3d4b2ae",
   "metadata": {},
   "outputs": [
    {
     "name": "stdout",
     "output_type": "stream",
     "text": [
      "Is (1, 1) inside both rectangles? False\r\n"
     ]
    }
   ],
   "source": [
    "using System;\n",
    "\n",
    "\n",
    "        bool isInRectangle1 = Inside(1, 1, 0.3, 0.5, 1.1, 0.7);\n",
    "\n",
    "        bool isInRectangle2 = Inside(1, 1, 0.5, 0.2, 1.1, 2);\n",
    "\n",
    "        bool isInBothRectangles = isInRectangle1 && isInRectangle2;\n",
    "\n",
    "        Console.WriteLine($\"Is (1, 1) inside both rectangles? {isInBothRectangles}\");\n",
    "    \n",
    "\n",
    "    static bool Inside(double x, double y, double x1, double y1, double x2, double y2)\n",
    "    {\n",
    "        return (x >= x1 && x <= x2) && (y >= y1 && y <= y2);\n",
    "    }\n"
   ]
  },
  {
   "cell_type": "code",
   "execution_count": null,
   "id": "e13dd00b",
   "metadata": {},
   "outputs": [],
   "source": []
  }
 ],
 "metadata": {
  "kernelspec": {
   "display_name": ".NET (C#)",
   "language": "C#",
   "name": ".net-csharp"
  },
  "language_info": {
   "file_extension": ".cs",
   "mimetype": "text/x-csharp",
   "name": "C#",
   "pygments_lexer": "csharp",
   "version": "12.0"
  }
 },
 "nbformat": 4,
 "nbformat_minor": 5
}
